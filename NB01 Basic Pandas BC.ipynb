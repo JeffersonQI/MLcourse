{
 "cells": [
  {
   "cell_type": "markdown",
   "id": "be7469a6",
   "metadata": {},
   "source": [
    "&copy; 2022 Serdar Dinc"
   ]
  },
  {
   "cell_type": "code",
   "execution_count": null,
   "id": "6509cbd5",
   "metadata": {},
   "outputs": [],
   "source": [
    "import pandas as pd"
   ]
  },
  {
   "cell_type": "code",
   "execution_count": null,
   "id": "aff9c060",
   "metadata": {},
   "outputs": [],
   "source": [
    "# FOR COLAB\n",
    "from google.colab import drive\n",
    "drive.mount('/content/drive')"
   ]
  },
  {
   "cell_type": "code",
   "execution_count": null,
   "id": "5f24c90e",
   "metadata": {},
   "outputs": [],
   "source": [
    "# You may need to change this directory\n",
    "\n",
    "# for colab\n",
    "data_dir = '/content/drive/MyDrive/Teaching_Data/'\n"
   ]
  },
  {
   "cell_type": "code",
   "execution_count": null,
   "id": "edb79b14",
   "metadata": {},
   "outputs": [],
   "source": [
    "# for colab\n",
    "goyal_file = 'Goyal/PredictorData2020_Goyal.parquet.gzip'\n",
    "crsp_msf_file = 'CRSP/msf.parquet.gzip'\n",
    "crsp_delist_file = 'CRSP/msedelist.parquet.gzip'\n",
    "crsp_names_file = 'CRSP/msenames.parquet.gzip'\n",
    "open_ap_file = 'OpenAP/OpenAP.parquet.gzip'\n",
    "ff3_file = 'FamaFrench/FF3.parquet.gzip'"
   ]
  },
  {
   "cell_type": "markdown",
   "id": "0b53ce56",
   "metadata": {},
   "source": [
    "## Read Goyal\n",
    "This file contains macroeconomic variables"
   ]
  },
  {
   "cell_type": "code",
   "execution_count": null,
   "id": "0ccbd320",
   "metadata": {},
   "outputs": [],
   "source": [
    "goyal = pd.read_parquet(data_dir + goyal_file)"
   ]
  },
  {
   "cell_type": "code",
   "execution_count": null,
   "id": "eb7304ba",
   "metadata": {
    "scrolled": true
   },
   "outputs": [],
   "source": [
    "# Display a few records\n",
    "goyal.head()"
   ]
  },
  {
   "cell_type": "code",
   "execution_count": null,
   "id": "97a987ea",
   "metadata": {
    "scrolled": true
   },
   "outputs": [],
   "source": [
    "# Display information about the dataframe\n",
    "goyal.info(verbose=True, show_counts=True)"
   ]
  },
  {
   "cell_type": "markdown",
   "id": "9d3838b5",
   "metadata": {},
   "source": [
    "## Read CRSP MSF\n",
    "This file contains monthly stock returns\n",
    "### Your Turn\n",
    "Read the file, display a few rows and information about the data frame\n",
    "It will help you learn better if you retype all the commands instead of copy-paste'ing them"
   ]
  },
  {
   "cell_type": "code",
   "execution_count": null,
   "id": "c318a090",
   "metadata": {
    "scrolled": true
   },
   "outputs": [],
   "source": [
    "# YOUR TURN\n",
    "\n"
   ]
  },
  {
   "cell_type": "markdown",
   "id": "177b578e",
   "metadata": {},
   "source": [
    "## Read CRSP Delisted\n",
    "This file contains information about the delisted stocks\n",
    "### Your Turn\n",
    "Read the file, display a few rows and information about the data frame\n",
    "It will help you learn better if you retype all the commands instead of copy-paste'ing them"
   ]
  },
  {
   "cell_type": "code",
   "execution_count": null,
   "id": "9f66e3c0",
   "metadata": {
    "scrolled": true
   },
   "outputs": [],
   "source": [
    "# YOUR TURN\n",
    "\n"
   ]
  },
  {
   "cell_type": "markdown",
   "id": "0b972661",
   "metadata": {},
   "source": [
    "## Read CRSP Names\n",
    "This file contains company and security names and other information. You may or may not need it.\n",
    "### Your Turn\n",
    "Read the file, display a few rows and information about the data frame\n",
    "It will help you learn better if you retype all the commands instead of copy-paste'ing them"
   ]
  },
  {
   "cell_type": "code",
   "execution_count": null,
   "id": "889dd4a0",
   "metadata": {
    "scrolled": true
   },
   "outputs": [],
   "source": [
    "# YOUR TURN\n",
    "\n"
   ]
  },
  {
   "cell_type": "markdown",
   "id": "b43dac77",
   "metadata": {},
   "source": [
    "## Read Fama French 3 factors\n",
    "This file contains Fama French 3 factors.\n",
    "### Your Turn\n",
    "Read the file, display a few rows and information about the data frame\n",
    "It will help you learn better if you retype all the commands instead of copy-paste'ing them"
   ]
  },
  {
   "cell_type": "code",
   "execution_count": null,
   "id": "7c905b90",
   "metadata": {},
   "outputs": [],
   "source": [
    "# YOUR TURN\n",
    "\n"
   ]
  },
  {
   "cell_type": "markdown",
   "id": "af79ae3e",
   "metadata": {},
   "source": [
    "## Read OpenAP stock characteriscs\n",
    "This file contains stock characteristics from OpenAP.\n",
    "### Your Turn\n",
    "Read the file, display a few rows and information about the data frame\n",
    "It will help you learn better if you retype all the commands instead of copy-paste'ing them"
   ]
  },
  {
   "cell_type": "code",
   "execution_count": null,
   "id": "c94c7e8c",
   "metadata": {},
   "outputs": [],
   "source": [
    "# YOUR TURN\n",
    "\n"
   ]
  },
  {
   "cell_type": "markdown",
   "id": "0cf89052",
   "metadata": {},
   "source": [
    "## Goyal - Primary Keys"
   ]
  },
  {
   "cell_type": "code",
   "execution_count": null,
   "id": "5cb745a6",
   "metadata": {},
   "outputs": [],
   "source": [
    "# First check if there are duplicated rows\n",
    "goyal.duplicated()"
   ]
  },
  {
   "cell_type": "code",
   "execution_count": null,
   "id": "1514194f",
   "metadata": {},
   "outputs": [],
   "source": [
    "# How to ckeck it quickly?\n",
    "goyal.duplicated().max()"
   ]
  },
  {
   "cell_type": "code",
   "execution_count": null,
   "id": "49666c2d",
   "metadata": {},
   "outputs": [],
   "source": [
    "# start by checking the index\n",
    "goyal.index"
   ]
  },
  {
   "cell_type": "code",
   "execution_count": null,
   "id": "1bba4f03",
   "metadata": {},
   "outputs": [],
   "source": [
    "# check index name.\n",
    "print(goyal.index.name)"
   ]
  },
  {
   "cell_type": "code",
   "execution_count": null,
   "id": "61b3ee89",
   "metadata": {},
   "outputs": [],
   "source": [
    "# Which column(s) is(are) likely to be primary keys)?\n",
    "# Let's look again all the columns\n",
    "goyal.info(verbose=True, show_counts=True)"
   ]
  },
  {
   "cell_type": "code",
   "execution_count": null,
   "id": "4d1f2c42",
   "metadata": {},
   "outputs": [],
   "source": [
    "# check if the most likely column(s) can be a primary key?\n",
    "goyal['Date'].duplicated().max()"
   ]
  },
  {
   "cell_type": "code",
   "execution_count": null,
   "id": "fcbd8d31",
   "metadata": {},
   "outputs": [],
   "source": [
    "# If it(they) can be a primary key, set it(them) as index\n",
    "goyal.set_index(keys=['Date'], inplace=True,\n",
    "                  verify_integrity=True)"
   ]
  },
  {
   "cell_type": "code",
   "execution_count": null,
   "id": "e7454535",
   "metadata": {},
   "outputs": [],
   "source": [
    "# it's a good idea to sort the dataframe by the index\n",
    "goyal.sort_index(inplace=True)"
   ]
  },
  {
   "cell_type": "code",
   "execution_count": null,
   "id": "ef0a7a2d",
   "metadata": {
    "scrolled": true
   },
   "outputs": [],
   "source": [
    "# check the index\n",
    "# YOUR TURN\n",
    "\n"
   ]
  },
  {
   "cell_type": "markdown",
   "id": "c09fc9f2",
   "metadata": {},
   "source": [
    "## CRSP_MSF primary keys"
   ]
  },
  {
   "cell_type": "code",
   "execution_count": null,
   "id": "5c0caf97",
   "metadata": {},
   "outputs": [],
   "source": [
    "# check the index\n",
    "# YOUR TURN\n"
   ]
  },
  {
   "cell_type": "code",
   "execution_count": null,
   "id": "41783bfd",
   "metadata": {},
   "outputs": [],
   "source": [
    "# check index name.\n",
    "# YOUR TURN\n"
   ]
  },
  {
   "cell_type": "code",
   "execution_count": null,
   "id": "b331f2f5",
   "metadata": {},
   "outputs": [],
   "source": [
    "# Display variable names\n",
    "# YOUR TURN\n",
    "\n"
   ]
  },
  {
   "cell_type": "code",
   "execution_count": null,
   "id": "056123ab",
   "metadata": {},
   "outputs": [],
   "source": [
    "# check if 'permco' and 'date' jointly identify the data\n",
    "# YOUR TURN\n"
   ]
  },
  {
   "cell_type": "code",
   "execution_count": null,
   "id": "f6c04307",
   "metadata": {},
   "outputs": [],
   "source": [
    "# check if 'cusip' and 'date' jointly identify the data\n",
    "# YOUR TURN\n"
   ]
  },
  {
   "cell_type": "code",
   "execution_count": null,
   "id": "013640ff",
   "metadata": {},
   "outputs": [],
   "source": [
    "# set them as index\n",
    "# YOUR TURN\n"
   ]
  },
  {
   "cell_type": "code",
   "execution_count": null,
   "id": "c82c73de",
   "metadata": {},
   "outputs": [],
   "source": [
    "# set by the index\n",
    "# YOUR TURN\n"
   ]
  },
  {
   "cell_type": "code",
   "execution_count": null,
   "id": "622c5d3a",
   "metadata": {},
   "outputs": [],
   "source": [
    "# Recheck the index\n",
    "# YOUR TURN\n"
   ]
  },
  {
   "cell_type": "code",
   "execution_count": null,
   "id": "372b7b94",
   "metadata": {},
   "outputs": [],
   "source": [
    "# display a few rows\n",
    "# YOUR TURN\n",
    "\n"
   ]
  },
  {
   "cell_type": "markdown",
   "id": "e30ca048",
   "metadata": {},
   "source": [
    "## Create variables in GOYAL\n"
   ]
  },
  {
   "cell_type": "code",
   "execution_count": null,
   "id": "c72a5960",
   "metadata": {},
   "outputs": [],
   "source": [
    "# Create a new column 'ep' to store S&P 500 earnings-price ratio\n",
    "goyal['ep'] = goyal['E12'] / goyal['Index']"
   ]
  },
  {
   "cell_type": "code",
   "execution_count": null,
   "id": "01e2b36e",
   "metadata": {},
   "outputs": [],
   "source": [
    "# Create a new column 'dp' to store S&P 500 dividend-price ratio\n",
    "# Get the variable names yourself\n",
    "# YOUR TURN\n",
    "# goyal['dp'] = goyal[fill_in_the_variable_name] / goyal[fill_in_the_variable_name]\n",
    "\n"
   ]
  },
  {
   "cell_type": "markdown",
   "id": "6e88a614",
   "metadata": {},
   "source": [
    "## Getting a sample count in CRSP_MSF"
   ]
  },
  {
   "cell_type": "code",
   "execution_count": null,
   "id": "44a290be",
   "metadata": {},
   "outputs": [],
   "source": [
    "# check number of companies\n",
    "crsp_msf['permco'].nunique()"
   ]
  },
  {
   "cell_type": "code",
   "execution_count": null,
   "id": "f3573c7c",
   "metadata": {},
   "outputs": [],
   "source": [
    "# check number of securities\n",
    "# this won't work because 'permno' is index\n",
    "# crsp_msf['permno'].nunique()\n",
    "\n",
    "# try this \n",
    "crsp_msf.index.get_level_values('cusip').nunique()\n"
   ]
  },
  {
   "cell_type": "code",
   "execution_count": null,
   "id": "9992478d",
   "metadata": {},
   "outputs": [],
   "source": [
    "# try the same for date and use describe()\n",
    "# YOUR TURN\n",
    "# this won't work\n",
    "# crsp_msf.index.get_level_values('date').describe()\n",
    "\n"
   ]
  },
  {
   "cell_type": "markdown",
   "id": "2a365cf9",
   "metadata": {},
   "source": [
    "&copy; 2022 Serdar Dinc"
   ]
  }
 ],
 "metadata": {
  "kernelspec": {
   "display_name": "Python 3 (ipykernel)",
   "language": "python",
   "name": "python3"
  },
  "language_info": {
   "codemirror_mode": {
    "name": "ipython",
    "version": 3
   },
   "file_extension": ".py",
   "mimetype": "text/x-python",
   "name": "python",
   "nbconvert_exporter": "python",
   "pygments_lexer": "ipython3",
   "version": "3.9.12"
  }
 },
 "nbformat": 4,
 "nbformat_minor": 5
}
